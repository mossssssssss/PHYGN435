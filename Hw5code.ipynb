{
  "nbformat": 4,
  "nbformat_minor": 0,
  "metadata": {
    "colab": {
      "provenance": [],
      "authorship_tag": "ABX9TyOMeRSqKoxZBuMteCj1UBfh",
      "include_colab_link": true
    },
    "kernelspec": {
      "name": "python3",
      "display_name": "Python 3"
    },
    "language_info": {
      "name": "python"
    }
  },
  "cells": [
    {
      "cell_type": "markdown",
      "metadata": {
        "id": "view-in-github",
        "colab_type": "text"
      },
      "source": [
        "<a href=\"https://colab.research.google.com/github/mossssssssss/PHYGN435/blob/main/Hw5code.ipynb\" target=\"_parent\"><img src=\"https://colab.research.google.com/assets/colab-badge.svg\" alt=\"Open In Colab\"/></a>"
      ]
    },
    {
      "cell_type": "code",
      "source": [
        "import numpy as np\n",
        "\n",
        "# ---------- Helper Functions ------------\n",
        "def complex_arcsin(z):\n",
        "    \"\"\"\n",
        "    Compute the inverse sine (arcsin) of a (possibly complex) argument z\n",
        "    using the formula:\n",
        "\n",
        "        arcsin(z) = -i * ln(i*z + sqrt(1 - z^2))\n",
        "\n",
        "    This function works for both real and complex z.\n",
        "    \"\"\"\n",
        "    return -1j * np.log(1j * z + np.sqrt(1 - z**2))\n",
        "\n",
        "\n",
        "def complex_cos(z):\n",
        "    \"\"\"\n",
        "    Compute the cosine of z (which may be a complex number) using Euler's formula:\n",
        "\n",
        "        cos(z) = (e^(iz) + e^(-iz)) / 2\n",
        "    \"\"\"\n",
        "    return 0.5 * (np.exp(1j * z) + np.exp(-1j * z))\n",
        "\n",
        "\n",
        "def compute_ellipsometric_angles(rho):\n",
        "    \"\"\"\n",
        "    Given the complex ratio rho = r_p_total/r_s_total = tan(psi)*exp(i*delta),\n",
        "    compute psi and delta (in degrees) using two equivalent approaches.\n",
        "\n",
        "    Here we first compute psi as:\n",
        "\n",
        "         psi = arctan(|rho|)\n",
        "\n",
        "    Then we solve for delta using:\n",
        "\n",
        "         delta = -Im{ ln( rho / tan(psi) ) }\n",
        "\n",
        "    Finally, delta is adjusted to lie between 0 and 360 degrees.\n",
        "    \"\"\"\n",
        "    # Compute psi (in radians)\n",
        "    psi = np.arctan(np.abs(rho))\n",
        "    # Method to compute delta:\n",
        "    delta = -np.imag(np.log(rho / np.tan(psi)))\n",
        "\n",
        "    # Convert to degrees and ensure delta is in [0, 360)\n",
        "    psi_deg = np.rad2deg(psi)\n",
        "    delta_deg = (np.rad2deg(delta) + 360) % 360\n",
        "    return psi_deg, delta_deg\n",
        "\n",
        "\n",
        "# ---------- Input parameters ------------\n",
        "wavelength = 633e-9          # Wavelength: 633 nm\n",
        "theta1 = np.deg2rad(70)      # Incidence angle: 70° (in radians)\n",
        "d = 100e-9                   # Film thickness: 100 nm\n",
        "\n",
        "# Refractive indices:\n",
        "n1 = 1.0                     # Ambient (air)\n",
        "n2 = 1.457                   # Film (SiO2) [assumed real]\n",
        "n3 = 3.872 - 0.037j          # Substrate (silicon) is complex\n",
        "\n",
        "# ---------- Compute angles in each medium ------------\n",
        "# First interface (ambient -> film): n1*sin(theta1) = n2*sin(theta2)\n",
        "theta2 = np.arcsin(n1 * np.sin(theta1) / n2)  # This angle is real\n",
        "\n",
        "# Second interface (film -> substrate): n2*sin(theta2) = n3*sin(theta3)\n",
        "# Since n3 is complex, we use our complex_arcsin helper.\n",
        "theta3_arg = n2 * np.sin(theta2) / n3\n",
        "theta3 = complex_arcsin(theta3_arg)\n",
        "\n",
        "# ---------- Helper: Fresnel coefficients ------------\n",
        "def fresnel_coeff(n_i, n_j, theta_i, theta_j):\n",
        "    \"\"\"\n",
        "    Returns the Fresnel reflection coefficients for s and p polarizations\n",
        "    at an interface between media with refractive indices n_i and n_j,\n",
        "    given the incident and transmitted angles theta_i and theta_j.\n",
        "\n",
        "    Uses the helper complex_cos for computing the cosine (which naturally handles\n",
        "    both real and complex angles).\n",
        "    \"\"\"\n",
        "    cos_theta_i = complex_cos(theta_i)\n",
        "    cos_theta_j = complex_cos(theta_j)\n",
        "\n",
        "    r_s = (n_i * cos_theta_i - n_j * cos_theta_j) / (n_i * cos_theta_i + n_j * cos_theta_j)\n",
        "    r_p = (n_j * cos_theta_i - n_i * cos_theta_j) / (n_j * cos_theta_i + n_i * cos_theta_j)\n",
        "    return r_s, r_p\n",
        "\n",
        "# ---------- Compute Fresnel coefficients at each interface ------------\n",
        "r12_s, r12_p = fresnel_coeff(n1, n2, theta1, theta2)\n",
        "r23_s, r23_p = fresnel_coeff(n2, n3, theta2, theta3)\n",
        "\n",
        "# ---------- Compute the phase thickness in the film ------------\n",
        "beta = (2 * np.pi * n2 * d * np.cos(theta2)) / wavelength\n",
        "exp_term = np.exp(-2j * beta)\n",
        "\n",
        "# ---------- Compute the overall reflection coefficients ------------\n",
        "# Standard thin-film interference formula:\n",
        "r_s_total = (r12_s + r23_s * exp_term) / (1 + r12_s * r23_s * exp_term)\n",
        "r_p_total = (r12_p + r23_p * exp_term) / (1 + r12_p * r23_p * exp_term)\n",
        "\n",
        "# ---------- Compute ellipsometric parameters ------------\n",
        "# From the definition: ρ = r_p_total / r_s_total = tan(psi)*exp(i*delta)\n",
        "rho = r_p_total / r_s_total\n",
        "\n",
        "# Compute ψ and δ using our helper function.\n",
        "psi_deg, delta_deg = compute_ellipsometric_angles(rho)\n",
        "\n",
        "# ---------- Print the results ------------\n",
        "print(\"Calculated ellipsometric parameters:\")\n",
        "print(\"Psi  = {:.1f} degrees\".format(psi_deg))\n",
        "print(\"Delta = {:.1f} degrees\".format(delta_deg))\n"
      ],
      "metadata": {
        "colab": {
          "base_uri": "https://localhost:8080/"
        },
        "id": "RHUpR7OPM1pt",
        "outputId": "a2a6ce7f-2ec5-4c7d-c2f4-fced1d7a17d0"
      },
      "execution_count": 5,
      "outputs": [
        {
          "output_type": "stream",
          "name": "stdout",
          "text": [
            "Calculated ellipsometric parameters:\n",
            "Psi  = 41.1 degrees\n",
            "Delta = 280.4 degrees\n"
          ]
        }
      ]
    }
  ]
}